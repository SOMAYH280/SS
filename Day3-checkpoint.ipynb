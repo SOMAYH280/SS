{
 "cells": [
  {
   "cell_type": "code",
   "execution_count": 24,
   "id": "93c5ae78-5fbe-4fdd-8954-3db59e0079bb",
   "metadata": {},
   "outputs": [],
   "source": [
    "with open(\"output.txt\",\"w\")as file:\n",
    "    file.write(\"hello,world\")"
   ]
  },
  {
   "cell_type": "code",
   "execution_count": 26,
   "id": "bec56904-a0c9-46be-8367-9d6972c3e1ee",
   "metadata": {},
   "outputs": [],
   "source": [
    "lines=[\"First lines\\n\",\"Second lines\\n\",\"Third lines\\n\"]\n",
    "with open(\"output.txt\",\"w\")as file:\n",
    "    file.writelines(lines)"
   ]
  },
  {
   "cell_type": "code",
   "execution_count": 27,
   "id": "fbae5203-9f24-464a-bb19-ea7909c7c695",
   "metadata": {},
   "outputs": [],
   "source": [
    "with open(\"output.txt\",\"a\")as file:\n",
    "    file.write(\"Appending a new line.\")"
   ]
  },
  {
   "cell_type": "code",
   "execution_count": 28,
   "id": "da457901-bcef-43e0-8e1a-8150d4b989f1",
   "metadata": {},
   "outputs": [
    {
     "name": "stdout",
     "output_type": "stream",
     "text": [
      "First lines\n",
      "Second lines\n",
      "Third lines\n",
      "Appending a new line.\n"
     ]
    },
    {
     "data": {
      "text/plain": [
       "str"
      ]
     },
     "execution_count": 28,
     "metadata": {},
     "output_type": "execute_result"
    }
   ],
   "source": [
    "with open(\"output.txt\",\"r\")as file:\n",
    "    content=file.read()\n",
    "    print(content)\n",
    "type(content)    "
   ]
  },
  {
   "cell_type": "code",
   "execution_count": null,
   "id": "463a0806-5c15-49f1-bea9-b97bc0e74f8a",
   "metadata": {},
   "outputs": [],
   "source": [
    "with open(\"C:\\\\Users\\somay\\\\OneDrive\\\\الصور\\\\صور-خلفياتHD-1 klematis_big.jpg\",\"rb\") as file:\n",
    "binary_date=file.read()\n",
    "with open (\"C:\\\\Users\\\\somay\\OneDrive\\\\الصور\\\\صور-خلفياتHD-1 aklematis_big.jpg\",\"wb\")as new_file:\n",
    "new_file.write(binary_data)"
   ]
  },
  {
   "cell_type": "code",
   "execution_count": null,
   "id": "83ec90ad-51d6-4337-a49d-cbc3e7f3eb31",
   "metadata": {},
   "outputs": [],
   "source": []
  }
 ],
 "metadata": {
  "kernelspec": {
   "display_name": "Python 3 (ipykernel)",
   "language": "python",
   "name": "python3"
  },
  "language_info": {
   "codemirror_mode": {
    "name": "ipython",
    "version": 3
   },
   "file_extension": ".py",
   "mimetype": "text/x-python",
   "name": "python",
   "nbconvert_exporter": "python",
   "pygments_lexer": "ipython3",
   "version": "3.12.7"
  }
 },
 "nbformat": 4,
 "nbformat_minor": 5
}
