{
 "cells": [
  {
   "cell_type": "code",
   "execution_count": 2,
   "id": "7ad1b9e4-a084-4407-b433-06e84ab68569",
   "metadata": {},
   "outputs": [],
   "source": [
    "x=2\n",
    "y=3"
   ]
  },
  {
   "cell_type": "code",
   "execution_count": 3,
   "id": "44683108-8556-485c-9039-22fb6f64a2ab",
   "metadata": {},
   "outputs": [
    {
     "data": {
      "text/plain": [
       "5"
      ]
     },
     "execution_count": 3,
     "metadata": {},
     "output_type": "execute_result"
    }
   ],
   "source": [
    "x+y"
   ]
  },
  {
   "cell_type": "code",
   "execution_count": 1,
   "id": "96577e62-13cf-4c7e-8386-d7e279046e96",
   "metadata": {},
   "outputs": [
    {
     "data": {
      "text/plain": [
       "float"
      ]
     },
     "execution_count": 1,
     "metadata": {},
     "output_type": "execute_result"
    }
   ],
   "source": [
    "y=3.1\n",
    "type(y)"
   ]
  },
  {
   "cell_type": "code",
   "execution_count": 2,
   "id": "e19e081f-954e-4946-81f4-e56a2972dc51",
   "metadata": {},
   "outputs": [
    {
     "data": {
      "text/plain": [
       "False"
      ]
     },
     "execution_count": 2,
     "metadata": {},
     "output_type": "execute_result"
    }
   ],
   "source": [
    "a=30\n",
    "b=10\n",
    "b>a"
   ]
  },
  {
   "cell_type": "code",
   "execution_count": 14,
   "id": "ec0e0f44-c834-4570-8382-a0a7fb5cef86",
   "metadata": {},
   "outputs": [
    {
     "name": "stdout",
     "output_type": "stream",
     "text": [
      "x is greater than 5\n"
     ]
    }
   ],
   "source": [
    "#if\n",
    "x=10\n",
    "if x>5:\n",
    "    print(\"x is greater than 5\")"
   ]
  },
  {
   "cell_type": "code",
   "execution_count": 15,
   "id": "fab7eda2-ffb8-4424-b717-370303f40d99",
   "metadata": {},
   "outputs": [
    {
     "name": "stdout",
     "output_type": "stream",
     "text": [
      "x is less than 5\n"
     ]
    }
   ],
   "source": [
    "#if -else\n",
    "x=4\n",
    "if x>5:\n",
    "    print(\"x is greater than 5\")\n",
    "else:\n",
    "    print(\"x is less than 5\")"
   ]
  },
  {
   "cell_type": "code",
   "execution_count": 16,
   "id": "b62783d1-4aa4-478d-98d7-801051204a26",
   "metadata": {},
   "outputs": [
    {
     "name": "stdout",
     "output_type": "stream",
     "text": [
      "x is less than 10\n"
     ]
    }
   ],
   "source": [
    "#if -elif-else\n",
    "x=9\n",
    "if x <5:\n",
    "    print(\"x is less than 5\")\n",
    "elif x>10:\n",
    "    print(\"x is greater than 10\")\n",
    "else:\n",
    "    print(\"x is less than 10\")"
   ]
  },
  {
   "cell_type": "code",
   "execution_count": 17,
   "id": "5b3d53af-53f3-4cf3-9d58-514300172e10",
   "metadata": {},
   "outputs": [
    {
     "name": "stdout",
     "output_type": "stream",
     "text": [
      "0\n",
      "1\n",
      "2\n",
      "3\n",
      "4\n"
     ]
    }
   ],
   "source": [
    "for i in range(5):\n",
    "    print(i)"
   ]
  },
  {
   "cell_type": "markdown",
   "id": "f39c2412-73c1-489b-9b70-c43ff13fcb79",
   "metadata": {},
   "source": [
    "Activity"
   ]
  },
  {
   "cell_type": "code",
   "execution_count": 4,
   "id": "3a841c6c-b915-4c3d-a9f0-05543c4baad3",
   "metadata": {},
   "outputs": [
    {
     "name": "stdin",
     "output_type": "stream",
     "text": [
      "enyer the number : 5\n"
     ]
    },
    {
     "name": "stdout",
     "output_type": "stream",
     "text": [
      "1x 5=5\n",
      "2x 5=10\n",
      "3x 5=15\n",
      "4x 5=20\n",
      "5x 5=25\n",
      "6x 5=30\n",
      "7x 5=35\n",
      "8x 5=40\n",
      "9x 5=45\n",
      "10x 5=50\n"
     ]
    }
   ],
   "source": [
    "num1=int(input(\"enyer the number :\"))\n",
    "for i in range(1,11):\n",
    "    print(f\"{i}x {num1}={i*num1}\")"
   ]
  },
  {
   "cell_type": "code",
   "execution_count": 13,
   "id": "2921e5ae-fa00-41e3-ba75-41759b85bd5f",
   "metadata": {},
   "outputs": [
    {
     "name": "stdin",
     "output_type": "stream",
     "text": [
      "please enter the first number 14\n",
      "please enter the operator +\n",
      "pleas enter the second number 8\n"
     ]
    },
    {
     "name": "stdout",
     "output_type": "stream",
     "text": [
      "22.0\n"
     ]
    }
   ],
   "source": [
    "num1= float(input(\"please enter the first number\"))\n",
    "operator=input(\"please enter the operator\")\n",
    "num2= float(input(\"pleas enter the second number\"))\n",
    "if operator==\"+\":\n",
    " print(num1+num2)\n",
    "elif operator==\"-\":\n",
    " print(num1_num2)\n",
    "elif oprator==\"/\":\n",
    " print(num1/num2)\n",
    "elif operator==\"*\":\n",
    " print(num1*num2)\n",
    "else:\n",
    " print(\"wrong operator please try again\")\n"
   ]
  },
  {
   "cell_type": "code",
   "execution_count": 21,
   "id": "12463506-0a1d-45aa-a91e-75c11d69ca9c",
   "metadata": {},
   "outputs": [
    {
     "name": "stdin",
     "output_type": "stream",
     "text": [
      "10 : 22\n"
     ]
    },
    {
     "name": "stdout",
     "output_type": "stream",
     "text": [
      "+5.\n"
     ]
    }
   ],
   "source": [
    "number=float(input(\"10 :\"))\n",
    "if number>0:\n",
    "    print(\"+5.\")\n",
    "elif numer <0:\n",
    "    print(\"-6.\")\n",
    "else:\n",
    "    print(\"0.\")"
   ]
  },
  {
   "cell_type": "code",
   "execution_count": null,
   "id": "3d166c2a-7284-4ffb-9364-94f144a76a5d",
   "metadata": {},
   "outputs": [],
   "source": []
  },
  {
   "cell_type": "code",
   "execution_count": 31,
   "id": "99e63c90-52ac-4faa-a354-62edf9eae3bb",
   "metadata": {},
   "outputs": [
    {
     "name": "stdin",
     "output_type": "stream",
     "text": [
      "5: 5\n"
     ]
    },
    {
     "name": "stdout",
     "output_type": "stream",
     "text": [
      "7.\n"
     ]
    }
   ],
   "source": [
    "number =int(input(\"5:\"))\n",
    "if number% 2==0:\n",
    "   print(\"6.\")               \n",
    "else:\n",
    "  print(\"7.\")                "
   ]
  }
 ],
 "metadata": {
  "kernelspec": {
   "display_name": "Python 3 (ipykernel)",
   "language": "python",
   "name": "python3"
  },
  "language_info": {
   "codemirror_mode": {
    "name": "ipython",
    "version": 3
   },
   "file_extension": ".py",
   "mimetype": "text/x-python",
   "name": "python",
   "nbconvert_exporter": "python",
   "pygments_lexer": "ipython3",
   "version": "3.12.7"
  }
 },
 "nbformat": 4,
 "nbformat_minor": 5
}
